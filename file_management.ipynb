{
 "cells": [
  {
   "cell_type": "code",
   "execution_count": 1,
   "metadata": {},
   "outputs": [],
   "source": [
    "import os\n",
    "\n",
    "def supp_prefix(path_to_folder, string_to_delete):\n",
    "   \n",
    "    # prendre la longueur du texte a supprimer\n",
    "    longueur = len(string_to_delete)\n",
    "\n",
    "    # Parcourir tous les fichiers du dossier\n",
    "    for nom_fichier in os.listdir(path_to_folder):\n",
    "        # Vérifier si les chaines de caractere de debut du fichier\n",
    "        if nom_fichier.startswith(string_to_delete):\n",
    "            # Construire le nouveau nom de fichier en supprimant les premiers caractères\n",
    "            nouveau_nom = nom_fichier[longueur:]\n",
    "            \n",
    "            # Obtenir l'ancien chemin complet du fichier\n",
    "            ancien_chemin = os.path.join(path_to_folder, nom_fichier)\n",
    "            \n",
    "            # Nouveau chemin complet du fichier\n",
    "            nouveau_chemin = os.path.join(path_to_folder, nouveau_nom)\n",
    "            \n",
    "            # Renommer le fichier\n",
    "            os.rename(ancien_chemin, nouveau_chemin)\n",
    "        print(\"Opération réussie\") "
   ]
  },
  {
   "cell_type": "code",
   "execution_count": null,
   "metadata": {},
   "outputs": [],
   "source": [
    "def supp_string(path_to_folder,string_to_delete):\n",
    "    # Parcourir tous les fichiers du dossier\n",
    "    for nom_fichier in os.listdir(path_to_folder):\n",
    "        # Construire le nouveau nom de fichier en supprimant la chaîne de caractères\n",
    "        nouveau_nom = nom_fichier.replace(string_to_delete, \"\")\n",
    "        \n",
    "        ancien_chemin = os.path.join(path_to_folder, nom_fichier)\n",
    "        \n",
    "        nouveau_chemin = os.path.join(path_to_folder, nouveau_nom)\n",
    "        \n",
    "        # Renommer le fichier\n",
    "        os.rename(ancien_chemin, nouveau_chemin)\n",
    "    print(\"Opération réussie\") "
   ]
  }
 ],
 "metadata": {
  "kernelspec": {
   "display_name": "Python 3",
   "language": "python",
   "name": "python3"
  },
  "language_info": {
   "codemirror_mode": {
    "name": "ipython",
    "version": 3
   },
   "file_extension": ".py",
   "mimetype": "text/x-python",
   "name": "python",
   "nbconvert_exporter": "python",
   "pygments_lexer": "ipython3",
   "version": "3.12.2"
  }
 },
 "nbformat": 4,
 "nbformat_minor": 2
}
